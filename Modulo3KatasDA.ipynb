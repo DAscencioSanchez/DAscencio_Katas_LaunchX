{
 "cells": [
  {
   "cell_type": "markdown",
   "metadata": {},
   "source": [
    "# Estos son mis ejercicios para el Modulo 3"
   ]
  },
  {
   "cell_type": "markdown",
   "metadata": {},
   "source": [
    "#Ejercicio 1: Uso de operadores 'and' y 'or'"
   ]
  },
  {
   "cell_type": "code",
   "execution_count": 3,
   "metadata": {},
   "outputs": [
    {
     "name": "stdout",
     "output_type": "stream",
     "text": [
      "el asteroide causara mucho daño\n"
     ]
    }
   ],
   "source": [
    "#Definimos tamano y velocidad de asteroide\n",
    "speed = 500 # Km/s\n",
    "size = 100 # m\n",
    "\n",
    "if size > 25 :\n",
    "    print(\"El asteroide se acerca a una velocidad peligrosa\") \n",
    "else:\n",
    "    print(\"el asteroide no es peligroso\")\n"
   ]
  },
  {
   "cell_type": "markdown",
   "metadata": {},
   "source": [
    "#Ejercicio 2:"
   ]
  },
  {
   "cell_type": "code",
   "execution_count": 5,
   "metadata": {},
   "outputs": [
    {
     "name": "stdout",
     "output_type": "stream",
     "text": [
      "Look up, podras ver un asteroide que se dirige a la tierra\n"
     ]
    }
   ],
   "source": [
    "# Agrega el código para crear una variable para un asteroide que viaja a 19 km/s\n",
    "# Escribe varias expresiones de prueba para determinar si puedes ver el rayo de luz desde la tierra\n",
    "# Agrega las instrucciones que se ejecutarán si las expresiones de prueba son True o False\n",
    "\n",
    "asteroide = 23 #km/s\n",
    "if asteroide >= 20:\n",
    "    print(\"Look up, podras ver un asteroide que se dirige a la tierra!\")\n",
    "else:\n",
    "    print(\"No hay nada que ver\")\n"
   ]
  },
  {
   "cell_type": "markdown",
   "metadata": {},
   "source": [
    "#Ejercicio 3"
   ]
  },
  {
   "cell_type": "code",
   "execution_count": 10,
   "metadata": {},
   "outputs": [
    {
     "name": "stdout",
     "output_type": "stream",
     "text": [
      "Alerta!, asteroide mortal que se dirige a la tierra!\n"
     ]
    }
   ],
   "source": [
    "# Agrega el código para crear nuevas variables para la velocidad y el tamaño del asteroide\n",
    "# Para probar el código, prueba con varias velocidades y tamaños\n",
    "# Escribe varias expresiones de prueba o combinaciones de expresiones de prueba para determinar qué mensaje se debe enviar a Tierra.\n",
    "\n",
    "speed =30 # velocidad del asteroide en Km/s\n",
    "size = 29 # tamano en m\n",
    "\n",
    "if speed > 25 and size >25:\n",
    "    print(\"Alerta!, asteroide mortal que se dirige a la tierra!\")\n",
    "elif speed >= 20:\n",
    "    print(\"Look up, podras ver un asteroide que se dirige a la tierra!\")\n",
    "else:\n",
    "    print(\"No hay nada que ver\")\n",
    "\n",
    "\n",
    "\n",
    "\n"
   ]
  }
 ],
 "metadata": {
  "interpreter": {
   "hash": "9fc62aef44a8c94d7ce1086efb31ee0de312b4459b5c4565aa4675749287b4d6"
  },
  "kernelspec": {
   "display_name": "Python 3.10.2 64-bit",
   "language": "python",
   "name": "python3"
  },
  "language_info": {
   "codemirror_mode": {
    "name": "ipython",
    "version": 3
   },
   "file_extension": ".py",
   "mimetype": "text/x-python",
   "name": "python",
   "nbconvert_exporter": "python",
   "pygments_lexer": "ipython3",
   "version": "3.10.2"
  },
  "orig_nbformat": 4
 },
 "nbformat": 4,
 "nbformat_minor": 2
}
